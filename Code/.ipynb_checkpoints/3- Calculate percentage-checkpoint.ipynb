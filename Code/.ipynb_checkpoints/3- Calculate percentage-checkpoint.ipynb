{
 "cells": [
  {
   "cell_type": "code",
   "execution_count": 5,
   "metadata": {},
   "outputs": [],
   "source": [
    "import pandas as pd\n",
    "import urllib.request\n",
    "import os\n",
    "import sqlite3\n",
    "from pathlib import Path\n",
    "import requests\n",
    "import json\n",
    "import time"
   ]
  },
  {
   "cell_type": "code",
   "execution_count": 6,
   "metadata": {},
   "outputs": [
    {
     "data": {
      "text/html": [
       "<div>\n",
       "<style scoped>\n",
       "    .dataframe tbody tr th:only-of-type {\n",
       "        vertical-align: middle;\n",
       "    }\n",
       "\n",
       "    .dataframe tbody tr th {\n",
       "        vertical-align: top;\n",
       "    }\n",
       "\n",
       "    .dataframe thead th {\n",
       "        text-align: right;\n",
       "    }\n",
       "</style>\n",
       "<table border=\"1\" class=\"dataframe\">\n",
       "  <thead>\n",
       "    <tr style=\"text-align: right;\">\n",
       "      <th></th>\n",
       "      <th>STATION_FULL</th>\n",
       "      <th>WEEK</th>\n",
       "      <th>TRAFFIC</th>\n",
       "    </tr>\n",
       "  </thead>\n",
       "  <tbody>\n",
       "    <tr>\n",
       "      <th>0</th>\n",
       "      <td>14_ST_UNION_SQ_Line_LNQR456W</td>\n",
       "      <td>1</td>\n",
       "      <td>175345</td>\n",
       "    </tr>\n",
       "    <tr>\n",
       "      <th>1</th>\n",
       "      <td>14_ST_UNION_SQ_Line_LNQR456W</td>\n",
       "      <td>2</td>\n",
       "      <td>177299</td>\n",
       "    </tr>\n",
       "    <tr>\n",
       "      <th>2</th>\n",
       "      <td>14_ST_UNION_SQ_Line_LNQR456W</td>\n",
       "      <td>3</td>\n",
       "      <td>171502</td>\n",
       "    </tr>\n",
       "    <tr>\n",
       "      <th>3</th>\n",
       "      <td>14_ST_UNION_SQ_Line_LNQR456W</td>\n",
       "      <td>4</td>\n",
       "      <td>170188</td>\n",
       "    </tr>\n",
       "    <tr>\n",
       "      <th>4</th>\n",
       "      <td>14_ST_UNION_SQ_Line_LNQR456W</td>\n",
       "      <td>5</td>\n",
       "      <td>152808</td>\n",
       "    </tr>\n",
       "  </tbody>\n",
       "</table>\n",
       "</div>"
      ],
      "text/plain": [
       "                   STATION_FULL  WEEK  TRAFFIC\n",
       "0  14_ST_UNION_SQ_Line_LNQR456W     1   175345\n",
       "1  14_ST_UNION_SQ_Line_LNQR456W     2   177299\n",
       "2  14_ST_UNION_SQ_Line_LNQR456W     3   171502\n",
       "3  14_ST_UNION_SQ_Line_LNQR456W     4   170188\n",
       "4  14_ST_UNION_SQ_Line_LNQR456W     5   152808"
      ]
     },
     "execution_count": 6,
     "metadata": {},
     "output_type": "execute_result"
    }
   ],
   "source": [
    "#import top ten data set with full line names \n",
    "tt_2021 = pd.read_csv(\"./top_traffic_2021.csv\")\n",
    "tt_2021.head()"
   ]
  },
  {
   "cell_type": "code",
   "execution_count": 8,
   "metadata": {},
   "outputs": [
    {
     "data": {
      "text/html": [
       "<div>\n",
       "<style scoped>\n",
       "    .dataframe tbody tr th:only-of-type {\n",
       "        vertical-align: middle;\n",
       "    }\n",
       "\n",
       "    .dataframe tbody tr th {\n",
       "        vertical-align: top;\n",
       "    }\n",
       "\n",
       "    .dataframe thead th {\n",
       "        text-align: right;\n",
       "    }\n",
       "</style>\n",
       "<table border=\"1\" class=\"dataframe\">\n",
       "  <thead>\n",
       "    <tr style=\"text-align: right;\">\n",
       "      <th></th>\n",
       "      <th>STATION_FULL</th>\n",
       "      <th>WEEK</th>\n",
       "      <th>TRAFFIC</th>\n",
       "    </tr>\n",
       "  </thead>\n",
       "  <tbody>\n",
       "    <tr>\n",
       "      <th>0</th>\n",
       "      <td>14_ST_UNION_SQ_Line_LNQR456W</td>\n",
       "      <td>2</td>\n",
       "      <td>764230</td>\n",
       "    </tr>\n",
       "    <tr>\n",
       "      <th>1</th>\n",
       "      <td>14_ST_UNION_SQ_Line_LNQR456W</td>\n",
       "      <td>3</td>\n",
       "      <td>743729</td>\n",
       "    </tr>\n",
       "    <tr>\n",
       "      <th>2</th>\n",
       "      <td>14_ST_UNION_SQ_Line_LNQR456W</td>\n",
       "      <td>4</td>\n",
       "      <td>726197</td>\n",
       "    </tr>\n",
       "    <tr>\n",
       "      <th>3</th>\n",
       "      <td>14_ST_UNION_SQ_Line_LNQR456W</td>\n",
       "      <td>5</td>\n",
       "      <td>755595</td>\n",
       "    </tr>\n",
       "    <tr>\n",
       "      <th>4</th>\n",
       "      <td>14_ST_UNION_SQ_Line_LNQR456W</td>\n",
       "      <td>6</td>\n",
       "      <td>791544</td>\n",
       "    </tr>\n",
       "  </tbody>\n",
       "</table>\n",
       "</div>"
      ],
      "text/plain": [
       "                   STATION_FULL  WEEK  TRAFFIC\n",
       "0  14_ST_UNION_SQ_Line_LNQR456W     2   764230\n",
       "1  14_ST_UNION_SQ_Line_LNQR456W     3   743729\n",
       "2  14_ST_UNION_SQ_Line_LNQR456W     4   726197\n",
       "3  14_ST_UNION_SQ_Line_LNQR456W     5   755595\n",
       "4  14_ST_UNION_SQ_Line_LNQR456W     6   791544"
      ]
     },
     "execution_count": 8,
     "metadata": {},
     "output_type": "execute_result"
    }
   ],
   "source": [
    "#load traffic data from 2019 for top ten in 2021 \n",
    "tt_2019 = pd.read_csv(\"./top_2021_in_2019.csv\")\n",
    "tt_2019.head()"
   ]
  },
  {
   "cell_type": "code",
   "execution_count": 9,
   "metadata": {},
   "outputs": [
    {
     "data": {
      "text/plain": [
       "array(['14_ST_UNION_SQ_Line_LNQR456W', '34_ST_HERALD_SQ_Line_BDFMNQRW',\n",
       "       '34_ST_PENN_STA_Line_ACE', '42_ST_PORT_AUTH_Line_ACENQRS1237W',\n",
       "       '86_ST_Line_456', 'FLUSHING_MAIN_Line_7',\n",
       "       'FULTON_ST_Line_2345ACJZ', 'GRD_CNTRL_42_ST_Line_4567S',\n",
       "       'JKSN_HT_ROOSVLT_Line_EFMR7', 'PATH_NEW_WTC_Line_1'], dtype=object)"
      ]
     },
     "execution_count": 9,
     "metadata": {},
     "output_type": "execute_result"
    }
   ],
   "source": [
    "station_list = tt_2019.STATION_FULL.unique()\n",
    "station_list"
   ]
  },
  {
   "cell_type": "code",
   "execution_count": 12,
   "metadata": {},
   "outputs": [],
   "source": [
    "#create individual dataframe per station that combines 2019 data and 2021 data in order to calculate percentage\n",
    "#of traffic per week per station\n",
    "\n",
    "for station in station_list:\n",
    "        \n",
    "        filter_2019 = ()\n",
    "        filter_2021 = ()\n",
    "        column_names = [\"STATION_FULL\",\"WEEK\",\"TRAFFIC\"]\n",
    "        data_2019 = pd.DataFrame(columns = column_names)\n",
    "        data_2021 = pd.DataFrame(columns = column_names)\n",
    "        \n",
    "#Create a unique DF per top station for its data in 2019\n",
    "\n",
    "        filter_2019 = tt_2019[\"STATION_FULL\"]== station\n",
    "        data_2019 = tt_2019[filter_2019].reset_index()\n",
    "        data_2019[\"STATION_FULL\"] = data_2019[\"STATION_FULL\"] + \"_2019\"\n",
    "\n",
    "#Create a unique df per top station for its data in 2021\n",
    "        filter_2021 = tt_2021[\"STATION_FULL\"]== station\n",
    "        data_2021 = tt_2021[filter_2021]\n",
    "        data_2021 = data_2021[data_2021.WEEK != 1]\n",
    "        data_2021[\"STATION_FULL\"] = data_2021[\"STATION_FULL\"] + \"_2021\"\n",
    "          \n",
    "#create one df for both years \n",
    "\n",
    "        data_all= pd.concat([data_2019,data_2021],ignore_index=True)\n",
    "    \n",
    "#create percentage df for 2021\n",
    "        \n",
    "        percent = data_all.groupby([\"WEEK\",\"STATION_FULL\"])[\"TRAFFIC\"].first().reset_index()\n",
    "        percent[\"PERCENT\"] = (percent[\"TRAFFIC\"].div(percent.TRAFFIC.shift(1)))*100\n",
    "        percent['PERCENT'].values[percent['PERCENT'].values > 100] = 0\n",
    "        percent['PERCENT'] = percent['PERCENT'].fillna(0)\n",
    "        percent = percent[percent[\"PERCENT\"] > 0]\n",
    "        percent.to_csv(\"./percent/Percent_\"+ station+\"_2021.csv\", index = False)\n",
    "\n",
    "#save traffic data from 2021 and 2019 for further use \n",
    "\n",
    "        data_all.to_csv(\"./station_data/\"+station+\"_2021_2019.csv\", index=False)"
   ]
  },
  {
   "cell_type": "code",
   "execution_count": 13,
   "metadata": {},
   "outputs": [],
   "source": [
    "#combine all 2021 and 2019 traffic data df's into one csv\n",
    "\n",
    "dirpath = (os.path.expanduser(\"./station_data/\"))\n",
    "output = (os.path.expanduser(\"./top_traffic_2021_in_2019.csv\"))\n",
    "csvout_lst = []\n",
    "files = [os.path.join(dirpath, fname) for fname in os.listdir(dirpath)]\n",
    "\n",
    "for filename in sorted(files):\n",
    "    data = pd.read_csv(filename, sep=',', index_col=0, header=0)\n",
    "    csvout_lst.append(data)\n",
    "\n",
    "pd.concat(csvout_lst).to_csv(output)"
   ]
  },
  {
   "cell_type": "code",
   "execution_count": 14,
   "metadata": {},
   "outputs": [],
   "source": [
    "#combine all percent df's into one csv\n",
    "\n",
    "dirpath = (os.path.expanduser(\"./percent/\"))\n",
    "output = (os.path.expanduser(\"./top_percent_2021_in_2019.csv\"))\n",
    "csvout_lst = []\n",
    "files = [os.path.join(dirpath, fname) for fname in os.listdir(dirpath)]\n",
    "\n",
    "for filename in sorted(files):\n",
    "    data = pd.read_csv(filename, sep=',', index_col=0, header=0)\n",
    "    csvout_lst.append(data)\n",
    "\n",
    "pd.concat(csvout_lst).to_csv(output)"
   ]
  },
  {
   "cell_type": "code",
   "execution_count": null,
   "metadata": {},
   "outputs": [],
   "source": []
  }
 ],
 "metadata": {
  "kernelspec": {
   "display_name": "Python 3",
   "language": "python",
   "name": "python3"
  },
  "language_info": {
   "codemirror_mode": {
    "name": "ipython",
    "version": 3
   },
   "file_extension": ".py",
   "mimetype": "text/x-python",
   "name": "python",
   "nbconvert_exporter": "python",
   "pygments_lexer": "ipython3",
   "version": "3.8.5"
  }
 },
 "nbformat": 4,
 "nbformat_minor": 4
}
